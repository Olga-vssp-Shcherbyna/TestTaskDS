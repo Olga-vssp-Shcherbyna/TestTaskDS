{
 "cells": [
  {
   "cell_type": "markdown",
   "id": "1e09be15-67d0-4ec9-9539-779e1eb6872a",
   "metadata": {},
   "source": [
    "Data loaders"
   ]
  },
  {
   "cell_type": "code",
   "execution_count": 34,
   "id": "463fa745-1af3-4192-9905-001be0e7c85b",
   "metadata": {},
   "outputs": [],
   "source": [
    "import numpy as np\n",
    "import struct\n",
    "\n",
    "def load_mnist_images(filename):\n",
    "    with open(filename, \"rb\") as f:\n",
    "        magic, num_images, rows, cols = struct.unpack(\">IIII\", f.read(16))\n",
    "        images = np.frombuffer(f.read(), dtype=np.uint8).reshape(num_images, -1)\n",
    "    return images\n",
    "\n",
    "def load_mnist_labels(filename):\n",
    "    with open(filename, \"rb\") as f:\n",
    "        magic, num_labels = struct.unpack(\">II\", f.read(8))\n",
    "        labels = np.frombuffer(f.read(), dtype=np.uint8)\n",
    "    return labels"
   ]
  },
  {
   "cell_type": "code",
   "execution_count": 35,
   "id": "cebeb3b6-7888-47c1-a002-84f013748eee",
   "metadata": {},
   "outputs": [],
   "source": [
    "train_images = load_mnist_images(\"train-images.idx3-ubyte\")\n",
    "train_labels = load_mnist_labels(\"train-labels.idx1-ubyte\")\n",
    "\n",
    "test_images = load_mnist_images(\"t10k-images.idx3-ubyte\")\n",
    "test_labels = load_mnist_labels(\"t10k-labels.idx1-ubyte\")"
   ]
  },
  {
   "cell_type": "markdown",
   "id": "b6395123-2a26-4677-9dc0-3e106877ccd8",
   "metadata": {},
   "source": [
    "MNIST Classifier Interface"
   ]
  },
  {
   "cell_type": "code",
   "execution_count": 36,
   "id": "ac57418b-0e5a-4e53-86b6-fdbfba647021",
   "metadata": {},
   "outputs": [],
   "source": [
    "from abc import ABC, abstractmethod\n",
    "\n",
    "class MnistClassifierInterface(ABC):  \n",
    "    @abstractmethod\n",
    "    def train(self, X, y):\n",
    "        # scratch method for model training\n",
    "        pass  \n",
    "\n",
    "    @abstractmethod\n",
    "    def predict(self, X):\n",
    "        # scratch method for prediction\n",
    "        pass  "
   ]
  },
  {
   "cell_type": "markdown",
   "id": "f10c1094-fe18-4f5f-8591-1e3dc26b31f2",
   "metadata": {},
   "source": [
    "Random Forest classifier"
   ]
  },
  {
   "cell_type": "code",
   "execution_count": 37,
   "id": "d4648a6d-efe8-46a9-b2d1-90d919fe5d04",
   "metadata": {},
   "outputs": [],
   "source": [
    "class RandomForestMnistClassifier(MnistClassifierInterface):\n",
    "\n",
    "    def __init__(self):\n",
    "        self.model = None\n",
    "\n",
    "    def train(self, X, y):\n",
    "        from sklearn.ensemble import RandomForestClassifier\n",
    "        self.model = RandomForestClassifier(n_estimators=150, random_state=42)\n",
    "        self.model.fit(X, y)\n",
    "\n",
    "    def predict(self, X):\n",
    "        \"\"\"метод для реалізації передбачення\"\"\"\n",
    "        if self.model is None:\n",
    "            return None\n",
    "        else:\n",
    "            return self.model.predict(X)"
   ]
  },
  {
   "cell_type": "markdown",
   "id": "3c00955f-ec35-4366-901c-68a040148c36",
   "metadata": {},
   "source": [
    "Feed-Forward NN classifier"
   ]
  },
  {
   "cell_type": "code",
   "execution_count": 38,
   "id": "867be297-494a-442f-890c-ffcc00c05b5b",
   "metadata": {},
   "outputs": [],
   "source": [
    "class FeedForwardNeuralNetworkClassifier(MnistClassifierInterface):\n",
    "\n",
    "    def __init__(self):\n",
    "        self.model = None\n",
    "\n",
    "    def train(self, X, y):\n",
    "        from sklearn.neural_network import MLPClassifier\n",
    "        self.model = MLPClassifier(hidden_layer_sizes = (100,), activation = 'relu', solver= 'adam', max_iter = 200)\n",
    "        self.model.fit(X, y)\n",
    "\n",
    "    def predict(self, X):\n",
    "        \"\"\"метод для реалізації передбачення\"\"\"\n",
    "        if self.model is None:\n",
    "            return None\n",
    "        else:\n",
    "            return self.model.predict(X)"
   ]
  },
  {
   "cell_type": "markdown",
   "id": "50a7962a-c557-4db4-b12f-0fb81eee5025",
   "metadata": {},
   "source": [
    "Convolutional NN classifier"
   ]
  },
  {
   "cell_type": "code",
   "execution_count": 39,
   "id": "7cacfc81-d6da-404a-862f-b6754931266c",
   "metadata": {},
   "outputs": [],
   "source": [
    "class ConvolutionalNeuralNetworkClassifier(MnistClassifierInterface):\n",
    "\n",
    "    def __init__(self):\n",
    "        self.model = None\n",
    "\n",
    "    def train(self, X, y):\n",
    "        from keras.models import Sequential\n",
    "        from keras.layers import Input, Conv2D, MaxPooling2D, Flatten, Dense\n",
    "        self.model = Sequential()\n",
    "        # Convolutional and pooling layers addition\n",
    "        input_layer = Input(shape=(28, 28, 1))\n",
    "        conv_layer = Conv2D(filters=64, kernel_size=(3, 3), activation='relu')\n",
    "        pool_layer = MaxPooling2D(pool_size=(2, 2))\n",
    "        # Flat layer addition\n",
    "        flat_layer = Flatten()\n",
    "        # Dense layer addition\n",
    "        dense_layer_one = Dense(64, activation='relu')\n",
    "        dense_layer_two = Dense(10, activation='softmax')\n",
    "        self.model.add(input_layer)\n",
    "        self.model.add(conv_layer)\n",
    "        self.model.add(pool_layer)\n",
    "        self.model.add(flat_layer)\n",
    "        self.model.add(dense_layer_one)\n",
    "        self.model.add(dense_layer_two)\n",
    "        # Model compilation\n",
    "        self.model.compile(loss='sparse_categorical_crossentropy', optimizer='adam')\n",
    "        self.model.fit(X, y)\n",
    "\n",
    "    def predict(self, X):\n",
    "        \"\"\"метод для реалізації передбачення\"\"\"\n",
    "        if self.model is None:\n",
    "            return None\n",
    "        else:\n",
    "            probabilities = self.model.predict(X)\n",
    "            return np.argmax(probabilities, axis=1)"
   ]
  },
  {
   "cell_type": "markdown",
   "id": "9929227e-4c6c-4229-94dc-eca5df4db935",
   "metadata": {},
   "source": [
    "Reshape images for CNN classification"
   ]
  },
  {
   "cell_type": "code",
   "execution_count": 40,
   "id": "9d518fec-5525-41a5-b789-d34e558d1a55",
   "metadata": {},
   "outputs": [],
   "source": [
    "train_images_cnn = train_images.reshape(-1, 28, 28, 1)\n",
    "test_images_cnn = test_images.reshape(-1, 28, 28, 1)"
   ]
  },
  {
   "cell_type": "markdown",
   "id": "11be2d21-39da-4c5e-9cd4-d67d471e5bec",
   "metadata": {},
   "source": [
    "MNIST classifier"
   ]
  },
  {
   "cell_type": "code",
   "execution_count": 41,
   "id": "0f8bf894-8683-40e2-a8fd-718df437535d",
   "metadata": {},
   "outputs": [],
   "source": [
    "from sklearn.metrics import accuracy_score\n",
    "\n",
    "class MnistClassifier:\n",
    "\n",
    "    def __init__(self, algorithm):\n",
    "        if algorithm == 'rf':\n",
    "            self.model = RandomForestMnistClassifier()\n",
    "        elif algorithm == 'nn':\n",
    "            self.model = FeedForwardNeuralNetworkClassifier()\n",
    "        elif algorithm == 'cnn':\n",
    "            self.model = ConvolutionalNeuralNetworkClassifier()\n",
    "        else:\n",
    "            raise ValueError(\"Algorithm is not found, choose from rf, nn or cnn\")\n",
    "\n",
    "    def train(self, X, y):\n",
    "        self.model.train(X, y)\n",
    "\n",
    "    def predict(self, X):\n",
    "        return self.model.predict(X)"
   ]
  },
  {
   "cell_type": "code",
   "execution_count": 42,
   "id": "32298f22-2141-4b36-9cb3-06bbc6adb7c4",
   "metadata": {},
   "outputs": [
    {
     "name": "stdin",
     "output_type": "stream",
     "text": [
      "Enter wanted algorithm (available options - rf, nn, cnn) or 'exit' to quit:  rf\n"
     ]
    },
    {
     "name": "stdout",
     "output_type": "stream",
     "text": [
      "Processing...\n",
      "Model accuracy:  0.9707\n"
     ]
    },
    {
     "name": "stdin",
     "output_type": "stream",
     "text": [
      "Enter wanted algorithm (available options - rf, nn, cnn) or 'exit' to quit:  nn\n"
     ]
    },
    {
     "name": "stdout",
     "output_type": "stream",
     "text": [
      "Processing...\n",
      "Model accuracy:  0.9694\n"
     ]
    },
    {
     "name": "stdin",
     "output_type": "stream",
     "text": [
      "Enter wanted algorithm (available options - rf, nn, cnn) or 'exit' to quit:  cnn\n"
     ]
    },
    {
     "name": "stdout",
     "output_type": "stream",
     "text": [
      "Processing...\n",
      "\u001b[1m1875/1875\u001b[0m \u001b[32m━━━━━━━━━━━━━━━━━━━━\u001b[0m\u001b[37m\u001b[0m \u001b[1m31s\u001b[0m 16ms/step - loss: 1.3474\n",
      "\u001b[1m313/313\u001b[0m \u001b[32m━━━━━━━━━━━━━━━━━━━━\u001b[0m\u001b[37m\u001b[0m \u001b[1m1s\u001b[0m 4ms/step\n",
      "Model accuracy:  0.9724\n"
     ]
    },
    {
     "name": "stdin",
     "output_type": "stream",
     "text": [
      "Enter wanted algorithm (available options - rf, nn, cnn) or 'exit' to quit:  exit\n"
     ]
    },
    {
     "name": "stdout",
     "output_type": "stream",
     "text": [
      "Exiting the program.\n"
     ]
    }
   ],
   "source": [
    "from MnistClassifier import MnistClassifier\n",
    "\n",
    "\n",
    "def run():\n",
    "    algorithm = input(\"Enter wanted algorithm (available options - rf, nn, cnn) or 'exit' to quit: \").lower()\n",
    "\n",
    "    if algorithm.lower() == 'exit':\n",
    "        print(\"Exiting the program.\")\n",
    "        return  # Ends program if user wants us to\n",
    "\n",
    "    try:\n",
    "        print(\"Processing...\")\n",
    "        model = MnistClassifier(algorithm)\n",
    "        model.train()\n",
    "        print(\"Model accuracy: \", model.accuracy())\n",
    "    except ValueError as e:\n",
    "        print(e)  # Outputs \"Algorithm is not found\", if algorithm name is wrong\n",
    "    except Exception as e:\n",
    "        print(\"An error occurred: \", e)  # For other errors\n",
    "\n",
    "    run()\n",
    "\n",
    "\n",
    "if __name__ == '__main__':\n",
    "    run()"
   ]
  },
  {
   "cell_type": "markdown",
   "id": "cd134d84-a294-4814-8ce7-afcf16cd6d2a",
   "metadata": {},
   "source": [
    "Edge Cases\n",
    "\n",
    "1. Invalid Algorithm Input:\n",
    "\n",
    "If the user inputs an invalid algorithm name (not rf, nn, or cnn), a ValueError will be raised, indicating that the algorithm is not found.\n",
    "\n",
    "2. Empty Dataset:\n",
    "\n",
    "If the dataset is empty or improperly formatted, the model will raise errors during training or prediction. Ensure that the MNIST files are correctly extracted and in the right format.\n",
    "\n",
    "3. Model Not Trained:\n",
    "\n",
    "If you attempt to make a prediction before training the model, the predict method will return None.\n",
    "\n",
    "4. Incompatible Input Shape:\n",
    "\n",
    "The CNN expects input images to be reshaped to (28, 28, 1). Providing images in a different shape will result in errors during model training."
   ]
  }
 ],
 "metadata": {
  "kernelspec": {
   "display_name": "Python 3 (ipykernel)",
   "language": "python",
   "name": "python3"
  },
  "language_info": {
   "codemirror_mode": {
    "name": "ipython",
    "version": 3
   },
   "file_extension": ".py",
   "mimetype": "text/x-python",
   "name": "python",
   "nbconvert_exporter": "python",
   "pygments_lexer": "ipython3",
   "version": "3.10.10"
  }
 },
 "nbformat": 4,
 "nbformat_minor": 5
}
